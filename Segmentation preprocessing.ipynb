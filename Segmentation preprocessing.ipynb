{
 "cells": [
  {
   "cell_type": "code",
   "execution_count": 15,
   "metadata": {},
   "outputs": [],
   "source": [
    "import os\n",
    "import cv2\n",
    "import numpy as np\n",
    "from pycocotools import mask\n",
    "import matplotlib.pyplot as plt"
   ]
  },
  {
   "cell_type": "code",
   "execution_count": 35,
   "metadata": {},
   "outputs": [],
   "source": [
    "def normalized_data(input_dir,output_dir,mask=False):\n",
    "  # loop over all files in the input directory\n",
    "  for filename in os.listdir(input_dir):\n",
    "    # read image from input directory\n",
    "    image_path = os.path.join(input_dir, filename)\n",
    "    if mask:\n",
    "      mask_img = cv2.imread(image_path)[:,:,0]\n",
    "      resized_img = cv2.resize(mask_img, (256,256))\n",
    "      resized_img[resized_img > 0] = 255\n",
    "    else:\n",
    "      img = cv2.imread(image_path)\n",
    "      grey_img = cv2.cvtColor(img, cv2.COLOR_RGB2GRAY)\n",
    "      resized_img = cv2.resize(grey_img, (256,256))\n",
    "\n",
    "    # write image to output directory\n",
    "    output_path = os.path.join(output_dir, filename)\n",
    "    cv2.imwrite(output_path, resized_img)"
   ]
  },
  {
   "cell_type": "code",
   "execution_count": 37,
   "metadata": {},
   "outputs": [],
   "source": [
    "# specify input and output directories\n",
    "input_dir = r'C:\\Users\\ahmed\\OneDrive - MTI (Faculty Of Computers & Artificial Intelligent)\\Desktop\\CV_Project\\Dataset\\Brain scans\\Tumor\\TRAIN_masks'\n",
    "output_dir = r'C:\\Users\\ahmed\\OneDrive - MTI (Faculty Of Computers & Artificial Intelligent)\\Desktop\\CV_Project\\tumor_data\\masks'\n",
    "normalized_data(input_dir,output_dir,True)"
   ]
  },
  {
   "cell_type": "code",
   "execution_count": 25,
   "metadata": {},
   "outputs": [],
   "source": [
    "# specify input and output directories\n",
    "input_dir = r'C:\\Users\\ahmed\\OneDrive - MTI (Faculty Of Computers & Artificial Intelligent)\\Desktop\\CV_Project\\Dataset\\Brain scans\\Tumor\\TRAIN_masks'\n",
    "output_dir = r'C:\\Users\\ahmed\\OneDrive - MTI (Faculty Of Computers & Artificial Intelligent)\\Desktop\\CV_Project\\yolo_segmentation\\masks'\n",
    "normalized_data(input_dir,output_dir,True)"
   ]
  },
  {
   "cell_type": "code",
   "execution_count": 24,
   "metadata": {},
   "outputs": [],
   "source": [
    "def normalized_data2(input_dir,output_dir1,output_dir2):\n",
    "  # loop over all files in the input directory\n",
    "  for filename in os.listdir(input_dir):\n",
    "    # read image from input directory\n",
    "    image_path = os.path.join(input_dir, filename)\n",
    "    # print(filename)\n",
    "    if 'mask' in filename:\n",
    "      mask_img = cv2.imread(image_path)[:,:,0]\n",
    "      resized_img = cv2.resize(mask_img, (256,256))\n",
    "      resized_img[resized_img > 0] = 255\n",
    "      # write image to output directory\n",
    "      # name = filename[:-10]\n",
    "      new = 'b'+filename[8:]\n",
    "      output_path = os.path.join(output_dir2, new)\n",
    "      cv2.imwrite(output_path, resized_img)\n",
    "    else:\n",
    "      img = cv2.imread(image_path)\n",
    "      grey_img = cv2.cvtColor(img, cv2.COLOR_RGB2GRAY)\n",
    "      resized_img = cv2.resize(grey_img, (256,256))\n",
    "      # write image to output directory\n",
    "      name = filename[:-5]\n",
    "      new = 'b'+name[8:]+'.png'\n",
    "      output_path = os.path.join(output_dir1, new)\n",
    "      cv2.imwrite(output_path, resized_img)"
   ]
  },
  {
   "cell_type": "code",
   "execution_count": 25,
   "metadata": {},
   "outputs": [],
   "source": [
    "# specify input and output directories\n",
    "input_dir = r'C:\\Users\\ahmed\\OneDrive - MTI (Faculty Of Computers & Artificial Intelligent)\\Desktop\\CV_Project\\Dataset\\Breast scans\\benign\\Train'\n",
    "output_dir1 = r'C:\\Users\\ahmed\\OneDrive - MTI (Faculty Of Computers & Artificial Intelligent)\\Desktop\\CV_Project\\benign_data\\train\\images'\n",
    "output_dir2 = r'C:\\Users\\ahmed\\OneDrive - MTI (Faculty Of Computers & Artificial Intelligent)\\Desktop\\CV_Project\\benign_data\\masks'\n",
    "normalized_data2(input_dir,output_dir1,output_dir2)"
   ]
  },
  {
   "cell_type": "code",
   "execution_count": 38,
   "metadata": {},
   "outputs": [],
   "source": [
    "def get_annotation(grey_mask):\n",
    "        contour, _ = cv2.findContours(grey_mask, cv2.RETR_TREE, cv2.CHAIN_APPROX_SIMPLE)\n",
    "        # return contour[0].reshape(-1,2).astype('float')\n",
    "        c = contour[0].reshape(-1,2).astype('float')\n",
    "        c = c/grey_mask.shape[0]\n",
    "        return [0] + c.flatten().tolist()"
   ]
  },
  {
   "cell_type": "code",
   "execution_count": 32,
   "metadata": {},
   "outputs": [],
   "source": [
    "img_mask = cv2.imread(r'C:\\Users\\ahmed\\OneDrive - MTI (Faculty Of Computers & Artificial Intelligent)\\Desktop\\CV_Project\\masks\\y0.png')[:,:,0]\n",
    "s = get_annotation(img_mask)\n",
    "img = cv2.imread(r'C:\\Users\\ahmed\\OneDrive - MTI (Faculty Of Computers & Artificial Intelligent)\\Desktop\\CV_Project\\yolo_segmentation\\train\\images\\y0.jpg')"
   ]
  },
  {
   "cell_type": "code",
   "execution_count": 27,
   "metadata": {},
   "outputs": [],
   "source": [
    "img2_mask = cv2.imread(r'C:\\Users\\ahmed\\OneDrive - MTI (Faculty Of Computers & Artificial Intelligent)\\Desktop\\CV_Project\\Dataset\\Brain scans\\Tumor\\TRAIN_masks\\y0.png')[:,:,0]\n",
    "s2 = get_annotation(img2_mask)\n",
    "img2 = cv2.imread(r'C:\\Users\\ahmed\\OneDrive - MTI (Faculty Of Computers & Artificial Intelligent)\\Desktop\\CV_Project\\Dataset\\Brain scans\\Tumor\\TRAIN\\y0.jpg')"
   ]
  },
  {
   "cell_type": "code",
   "execution_count": 39,
   "metadata": {},
   "outputs": [],
   "source": [
    "def labels(input_dir,output_dir):\n",
    "  # loop over all files in the input directory\n",
    "  for filename in os.listdir(input_dir):\n",
    "    textname = filename[:-3] + 'txt'\n",
    "    # read image from input directory\n",
    "    image_path = os.path.join(input_dir, filename)\n",
    "    img = cv2.imread(image_path)[:,:,0]\n",
    "    seg = get_annotation(img)\n",
    "    if len(seg) > 6:\n",
    "      output_path = os.path.join(output_dir, textname)\n",
    "      with open(output_path, 'w') as file:\n",
    "        str_data = ' '.join(map(str, seg))\n",
    "        file.write(str_data)\n",
    "    else:\n",
    "      print(filename)"
   ]
  },
  {
   "cell_type": "code",
   "execution_count": 43,
   "metadata": {},
   "outputs": [],
   "source": [
    "# specify input and output directories\n",
    "input_dir = r'C:\\Users\\ahmed\\OneDrive - MTI (Faculty Of Computers & Artificial Intelligent)\\Desktop\\CV_Project\\tumor_data\\masks'\n",
    "output_dir = r'C:\\Users\\ahmed\\OneDrive - MTI (Faculty Of Computers & Artificial Intelligent)\\Desktop\\CV_Project\\tumor_data\\train\\labels'\n",
    "labels(input_dir,output_dir)"
   ]
  },
  {
   "cell_type": "code",
   "execution_count": 154,
   "metadata": {},
   "outputs": [
    {
     "data": {
      "image/png": "[encoded data removed]",
      "text/plain": [
       "<Figure size 640x480 with 1 Axes>"
      ]
     },
     "metadata": {},
     "output_type": "display_data"
    }
   ],
   "source": [
    "segmentation = get_annotation(resized_mask)"
   ]
  },
  {
   "cell_type": "code",
   "execution_count": 2,
   "metadata": {},
   "outputs": [
    {
     "name": "stderr",
     "output_type": "stream",
     "text": [
      "\n",
      "image 1/1 C:\\Users\\ahmed\\OneDrive - MTI (Faculty Of Computers & Artificial Intelligent)\\Desktop\\CV_Project\\yolo_segmentation\\train\\images\\y0.jpg: 128x128 1 tumor, 34.2ms\n",
      "Speed: 2.0ms preprocess, 34.2ms inference, 13.0ms postprocess per image at shape (1, 3, 128, 128)\n",
      "Results saved to \u001b[1mruns\\segment\\predict4\u001b[0m\n",
      "1 label saved to runs\\segment\\predict4\\labels\n"
     ]
    },
    {
     "data": {
      "text/plain": [
       "[ultralytics.yolo.engine.results.Results object with attributes:\n",
       " \n",
       " boxes: ultralytics.yolo.engine.results.Boxes object\n",
       " keypoints: None\n",
       " keys: ['boxes', 'masks']\n",
       " masks: ultralytics.yolo.engine.results.Masks object\n",
       " names: {0: 'tumor'}\n",
       " orig_img: array([[[0, 0, 0],\n",
       "         [0, 0, 0],\n",
       "         [0, 0, 0],\n",
       "         ...,\n",
       "         [0, 0, 0],\n",
       "         [0, 0, 0],\n",
       "         [0, 0, 0]],\n",
       " \n",
       "        [[0, 0, 0],\n",
       "         [0, 0, 0],\n",
       "         [0, 0, 0],\n",
       "         ...,\n",
       "         [0, 0, 0],\n",
       "         [0, 0, 0],\n",
       "         [0, 0, 0]],\n",
       " \n",
       "        [[0, 0, 0],\n",
       "         [0, 0, 0],\n",
       "         [0, 0, 0],\n",
       "         ...,\n",
       "         [0, 0, 0],\n",
       "         [0, 0, 0],\n",
       "         [0, 0, 0]],\n",
       " \n",
       "        ...,\n",
       " \n",
       "        [[0, 0, 0],\n",
       "         [0, 0, 0],\n",
       "         [0, 0, 0],\n",
       "         ...,\n",
       "         [0, 0, 0],\n",
       "         [0, 0, 0],\n",
       "         [0, 0, 0]],\n",
       " \n",
       "        [[0, 0, 0],\n",
       "         [0, 0, 0],\n",
       "         [0, 0, 0],\n",
       "         ...,\n",
       "         [0, 0, 0],\n",
       "         [0, 0, 0],\n",
       "         [0, 0, 0]],\n",
       " \n",
       "        [[0, 0, 0],\n",
       "         [0, 0, 0],\n",
       "         [0, 0, 0],\n",
       "         ...,\n",
       "         [0, 0, 0],\n",
       "         [0, 0, 0],\n",
       "         [0, 0, 0]]], dtype=uint8)\n",
       " orig_shape: (100, 100)\n",
       " path: 'C:\\\\Users\\\\ahmed\\\\OneDrive - MTI (Faculty Of Computers & Artificial Intelligent)\\\\Desktop\\\\CV_Project\\\\yolo_segmentation\\\\train\\\\images\\\\y0.jpg'\n",
       " probs: None\n",
       " speed: {'preprocess': 2.0346641540527344, 'inference': 34.17205810546875, 'postprocess': 13.036966323852539}]"
      ]
     },
     "execution_count": 2,
     "metadata": {},
     "output_type": "execute_result"
    }
   ],
   "source": [
    "from ultralytics import YOLO\n",
    "model = YOLO(r\"C:\\Users\\ahmed\\OneDrive - MTI (Faculty Of Computers & Artificial Intelligent)\\Desktop\\CV_Project\\best.pt\")\n",
    "model.predict(source=r\"C:\\Users\\ahmed\\OneDrive - MTI (Faculty Of Computers & Artificial Intelligent)\\Desktop\\CV_Project\\yolo_segmentation\\train\\images\\y0.jpg\",save=True,show_labels=True,show_conf=True,conf=0.5,save_txt=True,save_crop=False,line_thickness=1)"
   ]
  },
  {
   "cell_type": "code",
   "execution_count": 30,
   "metadata": {},
   "outputs": [],
   "source": [
    "p=r\"C:\\Users\\ahmed\\OneDrive - MTI (Faculty Of Computers & Artificial Intelligent)\\Desktop\\CV_Project\\benign_data\\train\\labels\"\n",
    "for filename in os.listdir(p):\n",
    "  new = filename[1:]\n",
    "  my_source = os.path.join(p, filename)\n",
    "  my_dest = os.path.join(p, new)\n",
    "  os.rename(my_source, my_dest)"
   ]
  },
  {
   "cell_type": "code",
   "execution_count": 14,
   "metadata": {},
   "outputs": [
    {
     "name": "stdout",
     "output_type": "stream",
     "text": [
      "Bad image detected: b100.jpg,2,1\n",
      "Bad image detected: b163.jpg,2,1\n",
      "Bad image detected: b172.jpg,2,1\n",
      "Bad image detected: b181.jpg,2,1\n",
      "Bad image detected: b195.jpg,3,1\n",
      "Bad image detected: \\b25.jpg,2,1\n",
      "Bad image detected: s\\b4.jpg,2,1\n",
      "Bad image detected: \\b54.jpg,2,1\n",
      "Bad image detected: \\b58.jpg,2,1\n",
      "Bad image detected: \\b83.jpg,2,1\n",
      "Bad image detected: \\b92.jpg,2,1\n",
      "Bad image detected: \\b93.jpg,2,1\n",
      "Bad image detected: \\b98.jpg,2,1\n"
     ]
    }
   ],
   "source": [
    "label_dir = r\"C:\\Users\\ahmed\\OneDrive - MTI (Faculty Of Computers & Artificial Intelligent)\\Desktop\\CV_Project\\yolo_segmentation_all\\train\\labels\"\n",
    "image_dir = r\"C:\\Users\\ahmed\\OneDrive - MTI (Faculty Of Computers & Artificial Intelligent)\\Desktop\\CV_Project\\yolo_segmentation_all\\train\\images\"\n",
    "\n",
    "for filename in os.listdir(label_dir):\n",
    "    if filename.endswith(\".txt\"):\n",
    "        label_path = os.path.join(label_dir, filename)\n",
    "        image_path = os.path.join(image_dir, os.path.splitext(filename)[0] + \".jpg\")\n",
    "        with open(label_path, \"r\") as f:\n",
    "            lines = f.readlines()\n",
    "            num_boxes = len(lines)\n",
    "        num_segments = len(set([line.split()[0] for line in lines]))\n",
    "        if num_boxes > num_segments:\n",
    "            print(f\"Bad image detected: {image_path[-8:]},{num_boxes},{num_segments}\")"
   ]
  }
 ],
 "metadata": {
  "kernelspec": {
   "display_name": "Python 3",
   "language": "python",
   "name": "python3"
  },
  "language_info": {
   "codemirror_mode": {
    "name": "ipython",
    "version": 3
   },
   "file_extension": ".py",
   "mimetype": "text/x-python",
   "name": "python",
   "nbconvert_exporter": "python",
   "pygments_lexer": "ipython3",
   "version": "3.10.11"
  },
  "orig_nbformat": 4
 },
 "nbformat": 4,
 "nbformat_minor": 2
}
